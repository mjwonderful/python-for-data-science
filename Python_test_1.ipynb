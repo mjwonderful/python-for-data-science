{
 "cells": [
  {
   "cell_type": "code",
   "execution_count": 2,
   "metadata": {
    "collapsed": false
   },
   "outputs": [
    {
     "name": "stdout",
     "output_type": "stream",
     "text": [
      "6\n"
     ]
    }
   ],
   "source": [
    "sum = 0 \n",
    "for i in [1,2,3]:\n",
    "    sum = sum + i\n",
    "print (sum)"
   ]
  },
  {
   "cell_type": "code",
   "execution_count": 3,
   "metadata": {
    "collapsed": false
   },
   "outputs": [
    {
     "name": "stdout",
     "output_type": "stream",
     "text": [
      "6\n"
     ]
    }
   ],
   "source": [
    "sum = 0 \n",
    "n = 3\n",
    "while n > 0:\n",
    "    sum = sum + n\n",
    "    n = n - 1\n",
    "print(sum)"
   ]
  },
  {
   "cell_type": "code",
   "execution_count": 4,
   "metadata": {
    "collapsed": false
   },
   "outputs": [
    {
     "name": "stdout",
     "output_type": "stream",
     "text": [
      "1\n",
      "2\n",
      "3\n",
      "4\n",
      "5\n",
      "6\n",
      "7\n",
      "8\n",
      "9\n",
      "10\n",
      "end\n"
     ]
    }
   ],
   "source": [
    "i = 1\n",
    "while i < 100:\n",
    "    if i > 10:\n",
    "        break\n",
    "    print(i)\n",
    "    i = i + 1\n",
    "print('end')"
   ]
  },
  {
   "cell_type": "code",
   "execution_count": 1,
   "metadata": {
    "collapsed": false
   },
   "outputs": [
    {
     "name": "stdout",
     "output_type": "stream",
     "text": [
      "半径为5的面积是:78.54\n"
     ]
    }
   ],
   "source": [
    "import math\n",
    "r = 5\n",
    "print('半径为5的面积是:%.2f' %(math.pi*r**2))"
   ]
  },
  {
   "cell_type": "code",
   "execution_count": 6,
   "metadata": {
    "collapsed": false
   },
   "outputs": [
    {
     "name": "stdout",
     "output_type": "stream",
     "text": [
      "3.141592653589793115997963468544\n"
     ]
    }
   ],
   "source": [
    "from math import pi\n",
    "print('%.30f' %pi)"
   ]
  },
  {
   "cell_type": "code",
   "execution_count": 7,
   "metadata": {
    "collapsed": false
   },
   "outputs": [
    {
     "name": "stdout",
     "output_type": "stream",
     "text": [
      "\n",
      "/Users/apple/anaconda/lib/python36.zip\n",
      "/Users/apple/anaconda/lib/python3.6\n",
      "/Users/apple/anaconda/lib/python3.6/lib-dynload\n",
      "/Users/apple/anaconda/lib/python3.6/site-packages\n",
      "/Users/apple/anaconda/lib/python3.6/site-packages/Sphinx-1.5.1-py3.6.egg\n",
      "/Users/apple/anaconda/lib/python3.6/site-packages/aeosa\n",
      "/Users/apple/anaconda/lib/python3.6/site-packages/setuptools-27.2.0-py3.6.egg\n",
      "/Users/apple/anaconda/lib/python3.6/site-packages/IPython/extensions\n",
      "/Users/apple/.ipython\n"
     ]
    }
   ],
   "source": [
    "import sys\n",
    "\n",
    "print('\\n'.join(sys.path))"
   ]
  },
  {
   "cell_type": "code",
   "execution_count": 10,
   "metadata": {
    "collapsed": false
   },
   "outputs": [
    {
     "name": "stdout",
     "output_type": "stream",
     "text": [
      "既可以整除2，也可以整除3\n"
     ]
    }
   ],
   "source": [
    "num = 12 \n",
    "if num%2 == 0:\n",
    "    if num%3 == 0:\n",
    "        print('既可以整除2，也可以整除3')\n",
    "    elif num%4 == 0:\n",
    "        print('既可以整除2，也可以整除4')\n",
    "    else:\n",
    "        print('只可以整除2，不可以整除3和4')\n",
    "else:\n",
    "    if num%3 == 0:\n",
    "        print('不能整除2，只能整除3')\n",
    "    else:\n",
    "        print('不能整除2，也不能整除3')"
   ]
  },
  {
   "cell_type": "code",
   "execution_count": 1,
   "metadata": {
    "collapsed": false
   },
   "outputs": [
    {
     "name": "stdout",
     "output_type": "stream",
     "text": [
      "BMI值是:27\n",
      "过重\n"
     ]
    }
   ],
   "source": [
    "h = 1.78\n",
    "w = 87.5\n",
    "bmi = w/h/h\n",
    "print('BMI值是:%d' %bmi)\n",
    "if bmi < 18.5:\n",
    "    print('过轻')\n",
    "elif bmi >= 18.5 and bmi < 25:\n",
    "    print('正常')\n",
    "elif bmi >= 25 and bmi < 28:\n",
    "    print('过重')\n",
    "elif bmi >= 28 and bmi < 32:\n",
    "    print('肥胖')\n",
    "else:\n",
    "    print('严重肥胖')"
   ]
  },
  {
   "cell_type": "code",
   "execution_count": 2,
   "metadata": {
    "collapsed": false
   },
   "outputs": [
    {
     "name": "stdout",
     "output_type": "stream",
     "text": [
      "5050\n"
     ]
    }
   ],
   "source": [
    "sum = 0\n",
    "for i in range(101):\n",
    "    sum += i\n",
    "print(sum)"
   ]
  },
  {
   "cell_type": "code",
   "execution_count": 3,
   "metadata": {
    "collapsed": false
   },
   "outputs": [
    {
     "name": "stdout",
     "output_type": "stream",
     "text": [
      "5050\n"
     ]
    }
   ],
   "source": [
    "sum = 0 \n",
    "i = 100\n",
    "while i > 0:\n",
    "    sum += i\n",
    "    i -= 1\n",
    "print(sum)"
   ]
  },
  {
   "cell_type": "code",
   "execution_count": 4,
   "metadata": {
    "collapsed": false
   },
   "outputs": [
    {
     "name": "stdout",
     "output_type": "stream",
     "text": [
      "hello Bart\n",
      "hello Lisa\n",
      "hello Adam\n"
     ]
    }
   ],
   "source": [
    "L = ['Bart', 'Lisa', 'Adam']\n",
    "for i in L:\n",
    "    print('hello',i)"
   ]
  },
  {
   "cell_type": "markdown",
   "metadata": {},
   "source": [
    "### 总共768个样本"
   ]
  },
  {
   "cell_type": "code",
   "execution_count": 10,
   "metadata": {
    "collapsed": false
   },
   "outputs": [
    {
     "data": {
      "text/plain": [
       "768"
      ]
     },
     "execution_count": 10,
     "metadata": {},
     "output_type": "execute_result"
    }
   ],
   "source": [
    "L = list(range(769))\n",
    "L.remove(0)\n",
    "len(L)"
   ]
  },
  {
   "cell_type": "markdown",
   "metadata": {},
   "source": [
    "### 不放回抽样203次，并对结果排序"
   ]
  },
  {
   "cell_type": "code",
   "execution_count": 20,
   "metadata": {
    "collapsed": false
   },
   "outputs": [],
   "source": [
    "import random\n",
    "RES = random.sample(L,203)\n",
    "RES.sort()"
   ]
  },
  {
   "cell_type": "code",
   "execution_count": 21,
   "metadata": {
    "collapsed": false
   },
   "outputs": [
    {
     "data": {
      "text/plain": [
       "203"
      ]
     },
     "execution_count": 21,
     "metadata": {},
     "output_type": "execute_result"
    }
   ],
   "source": [
    "len(RES)"
   ]
  },
  {
   "cell_type": "markdown",
   "metadata": {},
   "source": [
    "### 判断是否是5连号"
   ]
  },
  {
   "cell_type": "code",
   "execution_count": 18,
   "metadata": {
    "collapsed": false
   },
   "outputs": [
    {
     "name": "stdout",
     "output_type": "stream",
     "text": [
      "出现5连号的概率是51.86%\n"
     ]
    }
   ],
   "source": [
    "# -*- coding: utf-8 -*-\n",
    "\n",
    "import random\n",
    "i = 0\n",
    "j = 0\n",
    "n = 10000\n",
    "L = list(range(1,769))\n",
    "IS_FIVE = [None]*(203-4)\n",
    "STAT = [None]*n\n",
    "\n",
    "while j < n:\n",
    "    RES = random.sample(L,203)\n",
    "    RES.sort()\n",
    "    i = 0\n",
    "    while i < len(RES) - 4:\n",
    "        if RES[i+4] - RES[i] == 4:\n",
    "            IS_FIVE[i] = 'y'\n",
    "        else:\n",
    "            IS_FIVE[i] = 'n'\n",
    "        i += 1\n",
    "        STAT[j] = IS_FIVE.count('y')\n",
    "    j += 1\n",
    "print('出现5连号的概率是%.2f%%' % ((1 - STAT.count(0)/n)*100))"
   ]
  },
  {
   "cell_type": "code",
   "execution_count": 52,
   "metadata": {
    "collapsed": false
   },
   "outputs": [
    {
     "name": "stdout",
     "output_type": "stream",
     "text": [
      "1*1= 1\t\n",
      "\n",
      "1*2= 2\t2*2= 4\t\n",
      "\n",
      "1*3= 3\t2*3= 6\t3*3= 9\t\n",
      "\n",
      "1*4= 4\t2*4= 8\t3*4=12\t4*4=16\t\n",
      "\n",
      "1*5= 5\t2*5=10\t3*5=15\t4*5=20\t5*5=25\t\n",
      "\n",
      "1*6= 6\t2*6=12\t3*6=18\t4*6=24\t5*6=30\t6*6=36\t\n",
      "\n",
      "1*7= 7\t2*7=14\t3*7=21\t4*7=28\t5*7=35\t6*7=42\t7*7=49\t\n",
      "\n",
      "1*8= 8\t2*8=16\t3*8=24\t4*8=32\t5*8=40\t6*8=48\t7*8=56\t8*8=64\t\n",
      "\n",
      "1*9= 9\t2*9=18\t3*9=27\t4*9=36\t5*9=45\t6*9=54\t7*9=63\t8*9=72\t9*9=81\t\n",
      "\n"
     ]
    }
   ],
   "source": [
    "for i in range(1,10):\n",
    "    j = 1\n",
    "    while j <= i:\n",
    "        print('%d*%d=%2d' %(j, i, j*i), end = '\\t')\n",
    "        j += 1\n",
    "    print('\\n')"
   ]
  },
  {
   "cell_type": "code",
   "execution_count": 55,
   "metadata": {
    "collapsed": false
   },
   "outputs": [
    {
     "name": "stdout",
     "output_type": "stream",
     "text": [
      "1*1= 1\t\n",
      "\n",
      "1*2= 2\t2*2= 4\t\n",
      "\n",
      "1*3= 3\t2*3= 6\t3*3= 9\t\n",
      "\n",
      "1*4= 4\t2*4= 8\t3*4=12\t4*4=16\t\n",
      "\n",
      "1*5= 5\t2*5=10\t3*5=15\t4*5=20\t5*5=25\t\n",
      "\n",
      "1*6= 6\t2*6=12\t3*6=18\t4*6=24\t5*6=30\t6*6=36\t\n",
      "\n",
      "1*7= 7\t2*7=14\t3*7=21\t4*7=28\t5*7=35\t6*7=42\t7*7=49\t\n",
      "\n",
      "1*8= 8\t2*8=16\t3*8=24\t4*8=32\t5*8=40\t6*8=48\t7*8=56\t8*8=64\t\n",
      "\n",
      "1*9= 9\t2*9=18\t3*9=27\t4*9=36\t5*9=45\t6*9=54\t7*9=63\t8*9=72\t9*9=81\t\n",
      "\n"
     ]
    }
   ],
   "source": [
    "i = 1 \n",
    "j = 1\n",
    "for i in range(1, 10):\n",
    "    for j in range(1, i+1):\n",
    "        print('%d*%d=%2d' %(j, i, j*i), end = '\\t')\n",
    "    print('\\n')"
   ]
  },
  {
   "cell_type": "code",
   "execution_count": 15,
   "metadata": {
    "collapsed": false
   },
   "outputs": [
    {
     "name": "stdout",
     "output_type": "stream",
     "text": [
      "输入一个年份2018\n",
      "公元2018年不是闰年！\n"
     ]
    }
   ],
   "source": [
    "a = int(input('输入一个年份'))\n",
    "if (a%4 == 0 and a%100 != 0) or a%400 == 0:   # 能被4整除且不能被100整除，或能被400整除\n",
    "    print('公元%d年是闰年！' %a)\n",
    "else:\n",
    "    print('公元%d年不是闰年！' %a)"
   ]
  },
  {
   "cell_type": "code",
   "execution_count": 12,
   "metadata": {
    "collapsed": false
   },
   "outputs": [
    {
     "name": "stdout",
     "output_type": "stream",
     "text": [
      "1是奇数\n",
      "2是偶数\n",
      "3是奇数\n",
      "4是偶数\n",
      "5是奇数\n",
      "6是偶数\n",
      "7是奇数\n",
      "8是偶数\n",
      "9是奇数\n"
     ]
    }
   ],
   "source": [
    "for a in range(1,10):\n",
    "    if a%2 == 0:\n",
    "        print('%d是偶数' %a)\n",
    "    else:\n",
    "        print('%d是奇数' %a)\n",
    "    a += 1"
   ]
  },
  {
   "cell_type": "code",
   "execution_count": 21,
   "metadata": {
    "collapsed": false
   },
   "outputs": [
    {
     "name": "stdout",
     "output_type": "stream",
     "text": [
      "Help on built-in function abs in module builtins:\n",
      "\n",
      "abs(x, /)\n",
      "    Return the absolute value of the argument.\n",
      "\n"
     ]
    }
   ],
   "source": [
    "help(abs)"
   ]
  },
  {
   "cell_type": "code",
   "execution_count": 48,
   "metadata": {
    "collapsed": false
   },
   "outputs": [],
   "source": [
    "#!/usr/bin/env python3\n",
    "# -*- coding: utf-8 -*-\n",
    "# 求ax2+bx+c=0的解\n",
    "\n",
    "import math\n",
    "def quadratic(a, b, c):\n",
    "    d = b**2 - 4*a*c\n",
    "    if a == 0:\n",
    "        x1 = -c/b\n",
    "        print('有唯一解', x1)\n",
    "    elif d > 0:\n",
    "        x2 = (b+math.sqrt(d))/(-2*a)\n",
    "        x3 = (b-math.sqrt(d))/(-2*a)\n",
    "        print('有两个不同解', x2, x3)\n",
    "    elif d == 0:\n",
    "        x4 = b/(-2*a)\n",
    "        print('有两个相同解', x4)\n",
    "    else:\n",
    "        print('无解')"
   ]
  },
  {
   "cell_type": "code",
   "execution_count": 50,
   "metadata": {
    "collapsed": false
   },
   "outputs": [
    {
     "name": "stdout",
     "output_type": "stream",
     "text": [
      "有两个相同解 -2.0\n"
     ]
    }
   ],
   "source": [
    "quadratic(1, 4, 4)"
   ]
  },
  {
   "cell_type": "code",
   "execution_count": 52,
   "metadata": {
    "collapsed": false
   },
   "outputs": [
    {
     "name": "stdout",
     "output_type": "stream",
     "text": [
      "move A --> C\n",
      "move A --> B\n",
      "move C --> B\n",
      "move A --> C\n",
      "move B --> A\n",
      "move B --> C\n",
      "move A --> C\n"
     ]
    }
   ],
   "source": [
    "def move(n, a, b, c):\n",
    "    if n == 1:\n",
    "        print('move', a, '-->', c)\n",
    "    else:\n",
    "        move(n-1, a, c, b)\n",
    "        move(1, a, b, c)\n",
    "        move(n-1, b, a, c)\n",
    "\n",
    "move(3, 'A', 'B', 'C')"
   ]
  },
  {
   "cell_type": "code",
   "execution_count": 13,
   "metadata": {
    "collapsed": false
   },
   "outputs": [
    {
     "name": "stdout",
     "output_type": "stream",
     "text": [
      "((20180816, 2018, 20183, 201808, '2018/8/16', 20180815, 20180716, 20170816, 20180813, '星期四', 'thursday', 'N', 'N', 'N', '\"\"', '\"\"', '\"\"', '\"\"', '\"\"', 4, 20180801, 20180831),)\n"
     ]
    }
   ],
   "source": [
    "import pymysql\n",
    "conn = pymysql.connect(\"localhost\", \"root\", \"root\", \"mydb\", charset = 'utf8mb4')\n",
    "cursor = conn.cursor()\n",
    "sql1 = \"select * from dmn_day_info where day_key = '20180816'\"\n",
    "cursor.execute(sql1)\n",
    "data = cursor.fetchall()\n",
    "print(data)\n",
    "cursor.close()\n",
    "conn.close()"
   ]
  },
  {
   "cell_type": "code",
   "execution_count": null,
   "metadata": {
    "collapsed": true
   },
   "outputs": [],
   "source": []
  },
  {
   "cell_type": "code",
   "execution_count": null,
   "metadata": {
    "collapsed": true
   },
   "outputs": [],
   "source": []
  },
  {
   "cell_type": "code",
   "execution_count": null,
   "metadata": {
    "collapsed": true
   },
   "outputs": [],
   "source": []
  },
  {
   "cell_type": "code",
   "execution_count": null,
   "metadata": {
    "collapsed": true
   },
   "outputs": [],
   "source": []
  },
  {
   "cell_type": "code",
   "execution_count": null,
   "metadata": {
    "collapsed": true
   },
   "outputs": [],
   "source": []
  },
  {
   "cell_type": "code",
   "execution_count": null,
   "metadata": {
    "collapsed": true
   },
   "outputs": [],
   "source": []
  },
  {
   "cell_type": "code",
   "execution_count": null,
   "metadata": {
    "collapsed": true
   },
   "outputs": [],
   "source": []
  },
  {
   "cell_type": "code",
   "execution_count": null,
   "metadata": {
    "collapsed": true
   },
   "outputs": [],
   "source": []
  }
 ],
 "metadata": {
  "kernelspec": {
   "display_name": "Python 3",
   "language": "python",
   "name": "python3"
  },
  "language_info": {
   "codemirror_mode": {
    "name": "ipython",
    "version": 3
   },
   "file_extension": ".py",
   "mimetype": "text/x-python",
   "name": "python",
   "nbconvert_exporter": "python",
   "pygments_lexer": "ipython3",
   "version": "3.6.0"
  }
 },
 "nbformat": 4,
 "nbformat_minor": 2
}
